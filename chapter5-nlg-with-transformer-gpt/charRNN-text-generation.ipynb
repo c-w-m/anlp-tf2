{
 "cells": [
  {
   "cell_type": "markdown",
   "metadata": {
    "colab_type": "text",
    "id": "view-in-github"
   },
   "source": [
    "<a href=\"https://colab.research.google.com/github/c-w-m/anlp-tf2/blob/master/chapter5-nlg-with-transformer-gpt/charRNN-text-generation.ipynb\" target=\"_parent\"><img src=\"https://colab.research.google.com/assets/colab-badge.svg\" alt=\"Open In Colab\"/></a>"
   ]
  },
  {
   "cell_type": "markdown",
   "metadata": {},
   "source": [
    "# Imports"
   ]
  },
  {
   "cell_type": "code",
   "execution_count": null,
   "metadata": {
    "ExecuteTime": {
     "end_time": "2020-10-01T22:02:52.615231Z",
     "start_time": "2020-10-01T22:02:51.083272Z"
    }
   },
   "outputs": [],
   "source": [
    "import tensorflow as tf\n",
    "import numpy as np\n",
    "import pandas as pd\n",
    "\n",
    "tf.__version__"
   ]
  },
  {
   "cell_type": "code",
   "execution_count": null,
   "metadata": {
    "ExecuteTime": {
     "end_time": "2020-10-01T22:02:53.990870Z",
     "start_time": "2020-10-01T22:02:52.639754Z"
    }
   },
   "outputs": [],
   "source": [
    "######## GPU CONFIGS FOR RTX 2070 ###############\n",
    "## Please ignore if not training on GPU       ##\n",
    "## this is important for running CuDNN on GPU ##\n",
    "\n",
    "tf.keras.backend.clear_session() #- for easy reset of notebook state\n",
    "\n",
    "# chck if GPU can be seen by TF\n",
    "tf.config.list_physical_devices('GPU')\n",
    "#tf.debugging.set_log_device_placement(True)\n",
    "gpus = tf.config.experimental.list_physical_devices('GPU')\n",
    "if gpus:\n",
    "  # Restrict TensorFlow to only use the first GPU\n",
    "  try:\n",
    "    tf.config.experimental.set_memory_growth(gpus[0], True)\n",
    "    tf.config.experimental.set_visible_devices(gpus[0], 'GPU')\n",
    "    logical_gpus = tf.config.experimental.list_logical_devices('GPU')\n",
    "    print(len(gpus), \"Physical GPUs,\", len(logical_gpus), \"Logical GPU\")\n",
    "  except RuntimeError as e:\n",
    "    # Visible devices must be set before GPUs have been initialized\n",
    "    print(e)\n",
    "###############################################"
   ]
  },
  {
   "cell_type": "markdown",
   "metadata": {},
   "source": [
    "# Setup Tokenization"
   ]
  },
  {
   "cell_type": "code",
   "execution_count": null,
   "metadata": {
    "ExecuteTime": {
     "end_time": "2020-10-01T22:02:54.548953Z",
     "start_time": "2020-10-01T22:02:54.541137Z"
    }
   },
   "outputs": [],
   "source": [
    "chars = sorted(set(\"abcdefghijklmnopqrstuvwxyz0123456789 -,;.!?:’’’/\\|_@#$%ˆ&*˜‘+-=()[]{}' ABCDEFGHIJKLMNOPQRSTUVWXYZ\"))\n",
    "chars = list(chars)\n",
    "EOS = '<EOS>'\n",
    "UNK = \"<UNK>\"\n",
    "PAD = \"<PAD>\"  # need to move mask to '0'index for TF\n",
    "chars.append(UNK)\n",
    "chars.append(EOS)  #end of sentence\n",
    "\n",
    "\n",
    "## need to handle padding characters as well\n",
    "chars.insert(0, PAD)  # now padding should get index of 0"
   ]
  },
  {
   "cell_type": "code",
   "execution_count": null,
   "metadata": {
    "ExecuteTime": {
     "end_time": "2020-10-01T22:02:55.199543Z",
     "start_time": "2020-10-01T22:02:55.191579Z"
    }
   },
   "outputs": [],
   "source": [
    "# Creating a mapping from unique characters to indices\n",
    "char2idx = {u:i for i, u in enumerate(chars)}\n",
    "idx2char = np.array(chars)"
   ]
  },
  {
   "cell_type": "code",
   "execution_count": null,
   "metadata": {
    "ExecuteTime": {
     "end_time": "2020-10-01T22:02:57.144258Z",
     "start_time": "2020-10-01T22:02:57.139534Z"
    }
   },
   "outputs": [],
   "source": [
    "def char_idx(c):\n",
    "    # takes a character and returns an index\n",
    "    # if character is not in list, returns the unknown token\n",
    "    if c in chars:\n",
    "        return char2idx[c]\n",
    "    \n",
    "    return char2idx[UNK]"
   ]
  },
  {
   "cell_type": "markdown",
   "metadata": {},
   "source": [
    "# Load the Model"
   ]
  },
  {
   "cell_type": "code",
   "execution_count": null,
   "metadata": {
    "ExecuteTime": {
     "end_time": "2020-10-01T22:02:58.709471Z",
     "start_time": "2020-10-01T22:02:58.704709Z"
    }
   },
   "outputs": [],
   "source": [
    "# Length of the vocabulary in chars\n",
    "vocab_size = len(chars)\n",
    "\n",
    "# The embedding dimension\n",
    "embedding_dim = 256\n",
    "\n",
    "# Number of RNN units\n",
    "rnn_units = 1024\n",
    "\n",
    "# Batch size\n",
    "BATCH_SIZE=1"
   ]
  },
  {
   "cell_type": "code",
   "execution_count": null,
   "metadata": {
    "ExecuteTime": {
     "end_time": "2020-10-01T22:02:59.767460Z",
     "start_time": "2020-10-01T22:02:59.449517Z"
    }
   },
   "outputs": [],
   "source": [
    "# Define the model\n",
    "# this one is without padding masking or dropout layer\n",
    "def build_gen_model(vocab_size, embedding_dim, rnn_units, batch_size):\n",
    "  model = tf.keras.Sequential([\n",
    "    tf.keras.layers.Embedding(vocab_size, embedding_dim,\n",
    "                              batch_input_shape=[batch_size, None]),\n",
    "    tf.keras.layers.GRU(rnn_units,\n",
    "                        return_sequences=True,\n",
    "                        stateful=True,\n",
    "                        recurrent_initializer='glorot_uniform'),\n",
    "    tf.keras.layers.Dense(vocab_size)\n",
    "  ])\n",
    "  return model\n",
    "\n",
    "\n",
    "gen_model = build_gen_model(vocab_size, embedding_dim, rnn_units, BATCH_SIZE)"
   ]
  },
  {
   "cell_type": "code",
   "execution_count": null,
   "metadata": {
    "ExecuteTime": {
     "end_time": "2020-10-01T22:03:52.125205Z",
     "start_time": "2020-10-01T22:03:52.075458Z"
    }
   },
   "outputs": [],
   "source": [
    "# Now setup the location of the checkpoint\n",
    "# and load the latest checkpoint\n",
    "# Directory where the checkpoints will be saved\n",
    "checkpoint_dir = './training_checkpoints/2020-Oct-01-14-29-55' \n",
    "\n",
    "gen_model.load_weights(tf.train.latest_checkpoint(checkpoint_dir))\n",
    "\n",
    "gen_model.build(tf.TensorShape([1, None]))"
   ]
  },
  {
   "cell_type": "code",
   "execution_count": null,
   "metadata": {
    "ExecuteTime": {
     "end_time": "2020-10-01T22:03:53.527046Z",
     "start_time": "2020-10-01T22:03:53.517129Z"
    }
   },
   "outputs": [],
   "source": [
    "def generate_text(model, start_string, temperature=0.7, num_generate=75):\n",
    "  # Low temperatures results in more predictable text.\n",
    "  # Higher temperatures results in more surprising text.\n",
    "  # Experiment to find the best setting.\n",
    "\n",
    "  # Converting our start string to numbers (vectorizing)\n",
    "  input_eval = [char2idx[s] for s in start_string]\n",
    "  input_eval = tf.expand_dims(input_eval, 0)\n",
    "\n",
    "  # Empty string to store our results\n",
    "  text_generated = []\n",
    "\n",
    "  # Here batch size == 1\n",
    "  for i in range(num_generate):\n",
    "      predictions = model(input_eval)\n",
    "      # remove the batch dimension\n",
    "      predictions = tf.squeeze(predictions, 0)\n",
    "\n",
    "      # using a categorical distribution to predict the word returned by the model\n",
    "      predictions = predictions / temperature\n",
    "      predicted_id = tf.random.categorical(predictions, num_samples=1)[-1,0].numpy()\n",
    "\n",
    "      # We pass the predicted word as the next input to the model\n",
    "      # along with the previous hidden state\n",
    "      input_eval = tf.expand_dims([predicted_id], 0)\n",
    "        \n",
    "      text_generated.append(idx2char[predicted_id])\n",
    "      # lets break is <EOS> token is generated\n",
    "      #if idx2char[predicted_id] == EOS:\n",
    "      #  break #end of a sentence reached, lets stop\n",
    "\n",
    "  return (start_string + ''.join(text_generated))"
   ]
  },
  {
   "cell_type": "code",
   "execution_count": null,
   "metadata": {
    "ExecuteTime": {
     "end_time": "2020-10-01T22:04:02.019045Z",
     "start_time": "2020-10-01T22:03:58.003570Z"
    }
   },
   "outputs": [],
   "source": [
    "print(generate_text(gen_model, start_string=u\"Obama\"))"
   ]
  },
  {
   "cell_type": "code",
   "execution_count": null,
   "metadata": {
    "ExecuteTime": {
     "end_time": "2020-06-02T07:31:22.389597Z",
     "start_time": "2020-06-02T07:31:22.028045Z"
    }
   },
   "outputs": [],
   "source": [
    "print(generate_text(gen_model, start_string=u\"Apple\"))"
   ]
  },
  {
   "cell_type": "markdown",
   "metadata": {},
   "source": [
    "## 0.6993 model"
   ]
  },
  {
   "cell_type": "code",
   "execution_count": null,
   "metadata": {
    "ExecuteTime": {
     "end_time": "2020-06-03T04:56:33.618170Z",
     "start_time": "2020-06-03T04:56:33.252962Z"
    }
   },
   "outputs": [],
   "source": [
    "print(generate_text(gen_model, start_string=u\"Google\"))"
   ]
  },
  {
   "cell_type": "code",
   "execution_count": null,
   "metadata": {
    "ExecuteTime": {
     "end_time": "2020-06-03T09:38:20.118269Z",
     "start_time": "2020-06-03T09:38:19.362204Z"
    }
   },
   "outputs": [],
   "source": [
    "print(generate_text(gen_model, start_string=u\"S&P\"))"
   ]
  },
  {
   "cell_type": "code",
   "execution_count": null,
   "metadata": {
    "ExecuteTime": {
     "end_time": "2020-06-03T04:56:59.772936Z",
     "start_time": "2020-06-03T04:56:59.409389Z"
    }
   },
   "outputs": [],
   "source": [
    "print(generate_text(gen_model, start_string=u\"Market\"))"
   ]
  },
  {
   "cell_type": "code",
   "execution_count": null,
   "metadata": {
    "ExecuteTime": {
     "end_time": "2020-06-03T09:39:51.991130Z",
     "start_time": "2020-06-03T09:39:51.215353Z"
    }
   },
   "outputs": [],
   "source": [
    "print(generate_text(gen_model, start_string=u\"Beyonce\"))"
   ]
  },
  {
   "cell_type": "markdown",
   "metadata": {},
   "source": [
    "## 0.7031 model"
   ]
  },
  {
   "cell_type": "code",
   "execution_count": null,
   "metadata": {
    "ExecuteTime": {
     "end_time": "2020-06-03T04:58:39.536249Z",
     "start_time": "2020-06-03T04:58:39.069053Z"
    }
   },
   "outputs": [],
   "source": [
    "print(generate_text(gen_model, start_string=u\"Apple\"))"
   ]
  },
  {
   "cell_type": "code",
   "execution_count": null,
   "metadata": {
    "ExecuteTime": {
     "end_time": "2020-06-03T04:58:48.222281Z",
     "start_time": "2020-06-03T04:58:47.856498Z"
    }
   },
   "outputs": [],
   "source": [
    "print(generate_text(gen_model, start_string=u\"Google\"))"
   ]
  },
  {
   "cell_type": "code",
   "execution_count": null,
   "metadata": {
    "ExecuteTime": {
     "end_time": "2020-06-03T04:59:31.210379Z",
     "start_time": "2020-06-03T04:59:30.835293Z"
    }
   },
   "outputs": [],
   "source": [
    "print(generate_text(gen_model, start_string=u\"S&P\"))"
   ]
  },
  {
   "cell_type": "code",
   "execution_count": null,
   "metadata": {
    "ExecuteTime": {
     "end_time": "2020-06-03T04:59:38.098130Z",
     "start_time": "2020-06-03T04:59:37.730480Z"
    }
   },
   "outputs": [],
   "source": [
    "print(generate_text(gen_model, start_string=u\"Market\"))"
   ]
  },
  {
   "cell_type": "code",
   "execution_count": null,
   "metadata": {
    "ExecuteTime": {
     "end_time": "2020-06-03T04:59:52.520745Z",
     "start_time": "2020-06-03T04:59:52.155185Z"
    }
   },
   "outputs": [],
   "source": [
    "print(generate_text(gen_model, start_string=u\"Beyonce\"))"
   ]
  },
  {
   "cell_type": "markdown",
   "metadata": {},
   "source": [
    "## Different temperature settings with the same model"
   ]
  },
  {
   "cell_type": "code",
   "execution_count": null,
   "metadata": {
    "ExecuteTime": {
     "end_time": "2020-06-03T09:40:33.017771Z",
     "start_time": "2020-06-03T09:40:32.245105Z"
    }
   },
   "outputs": [],
   "source": [
    "print(generate_text(gen_model, start_string=u\"S&P\", temperature=0.1))"
   ]
  },
  {
   "cell_type": "code",
   "execution_count": null,
   "metadata": {
    "ExecuteTime": {
     "end_time": "2020-06-03T09:40:38.743466Z",
     "start_time": "2020-06-03T09:40:37.975845Z"
    }
   },
   "outputs": [],
   "source": [
    "print(generate_text(gen_model, start_string=u\"S&P\", temperature=0.3))"
   ]
  },
  {
   "cell_type": "code",
   "execution_count": null,
   "metadata": {
    "ExecuteTime": {
     "end_time": "2020-06-03T09:55:23.619048Z",
     "start_time": "2020-06-03T09:55:22.847552Z"
    }
   },
   "outputs": [],
   "source": [
    "print(generate_text(gen_model, start_string=u\"S&P\", temperature=0.5))"
   ]
  },
  {
   "cell_type": "code",
   "execution_count": null,
   "metadata": {
    "ExecuteTime": {
     "end_time": "2020-06-03T09:55:08.811183Z",
     "start_time": "2020-06-03T09:55:08.037898Z"
    }
   },
   "outputs": [],
   "source": [
    "print(generate_text(gen_model, start_string=u\"S&P\", temperature=0.7))"
   ]
  },
  {
   "cell_type": "code",
   "execution_count": null,
   "metadata": {
    "ExecuteTime": {
     "end_time": "2020-06-03T09:40:52.732031Z",
     "start_time": "2020-06-03T09:40:51.957848Z"
    }
   },
   "outputs": [],
   "source": [
    "print(generate_text(gen_model, start_string=u\"S&P\", temperature=0.9))"
   ]
  },
  {
   "cell_type": "code",
   "execution_count": null,
   "metadata": {
    "ExecuteTime": {
     "end_time": "2020-06-03T09:41:00.679398Z",
     "start_time": "2020-06-03T09:40:59.883367Z"
    }
   },
   "outputs": [],
   "source": [
    "print(generate_text(gen_model, start_string=u\"Kim\", temperature=0.9))"
   ]
  },
  {
   "cell_type": "code",
   "execution_count": null,
   "metadata": {
    "ExecuteTime": {
     "end_time": "2020-06-03T09:41:03.814987Z",
     "start_time": "2020-06-03T09:41:03.042158Z"
    }
   },
   "outputs": [],
   "source": [
    "print(generate_text(gen_model, start_string=u\"Kim\", temperature=0.7))"
   ]
  },
  {
   "cell_type": "code",
   "execution_count": null,
   "metadata": {
    "ExecuteTime": {
     "end_time": "2020-06-03T09:41:07.693117Z",
     "start_time": "2020-06-03T09:41:06.920399Z"
    }
   },
   "outputs": [],
   "source": [
    "print(generate_text(gen_model, start_string=u\"Kim\", temperature=0.5))"
   ]
  },
  {
   "cell_type": "code",
   "execution_count": null,
   "metadata": {
    "ExecuteTime": {
     "end_time": "2020-06-03T09:41:10.993197Z",
     "start_time": "2020-06-03T09:41:10.233256Z"
    }
   },
   "outputs": [],
   "source": [
    "print(generate_text(gen_model, start_string=u\"Kim\", temperature=0.3))"
   ]
  },
  {
   "cell_type": "code",
   "execution_count": null,
   "metadata": {
    "ExecuteTime": {
     "end_time": "2020-06-03T09:41:14.851455Z",
     "start_time": "2020-06-03T09:41:14.094773Z"
    }
   },
   "outputs": [],
   "source": [
    "print(generate_text(gen_model, start_string=u\"Kim\", temperature=0.1))"
   ]
  },
  {
   "cell_type": "markdown",
   "metadata": {},
   "source": [
    "## in progress model"
   ]
  },
  {
   "cell_type": "code",
   "execution_count": null,
   "metadata": {
    "ExecuteTime": {
     "end_time": "2020-06-11T07:23:31.465265Z",
     "start_time": "2020-06-11T07:23:31.125891Z"
    }
   },
   "outputs": [],
   "source": [
    "gen_model2 = build_gen_model(vocab_size, embedding_dim, rnn_units, BATCH_SIZE)\n",
    "checkpoint_dir = './training_checkpoints/'+ '2020-Jun-02-22-38-17'  # -> with 0.6993 loss\n",
    "#''2020-Jun-02-01-02-14' # -> .7031 loss\n",
    "gen_model2.load_weights(tf.train.latest_checkpoint(checkpoint_dir))\n",
    "\n",
    "gen_model2.build(tf.TensorShape([1, None]))"
   ]
  },
  {
   "cell_type": "code",
   "execution_count": null,
   "metadata": {
    "ExecuteTime": {
     "end_time": "2020-06-11T07:24:36.759131Z",
     "start_time": "2020-06-11T07:24:36.388467Z"
    }
   },
   "outputs": [],
   "source": [
    "print(generate_text(gen_model2, start_string=u\"S&P\", \n",
    "                    temperature=1, num_generate=75))"
   ]
  },
  {
   "cell_type": "code",
   "execution_count": null,
   "metadata": {
    "ExecuteTime": {
     "end_time": "2020-06-04T03:22:45.432073Z",
     "start_time": "2020-06-04T03:22:45.064588Z"
    }
   },
   "outputs": [],
   "source": [
    "print(generate_text(gen_model2, start_string=u\"S\", temperature=0.7))"
   ]
  },
  {
   "cell_type": "code",
   "execution_count": null,
   "metadata": {
    "ExecuteTime": {
     "end_time": "2020-06-04T03:22:48.965298Z",
     "start_time": "2020-06-04T03:22:48.602709Z"
    }
   },
   "outputs": [],
   "source": [
    "print(generate_text(gen_model2, start_string=u\"NBA\", temperature=0.4))"
   ]
  },
  {
   "cell_type": "code",
   "execution_count": null,
   "metadata": {
    "ExecuteTime": {
     "end_time": "2020-06-04T03:23:10.971933Z",
     "start_time": "2020-06-04T03:23:10.609180Z"
    }
   },
   "outputs": [],
   "source": [
    "print(generate_text(gen_model2, start_string=u\"Sta\", temperature=0.7))"
   ]
  },
  {
   "cell_type": "markdown",
   "metadata": {},
   "source": [
    "# Greedy Search with Bigrams"
   ]
  },
  {
   "cell_type": "code",
   "execution_count": null,
   "metadata": {
    "ExecuteTime": {
     "end_time": "2020-06-07T05:04:41.867762Z",
     "start_time": "2020-06-07T05:04:34.216444Z"
    }
   },
   "outputs": [],
   "source": [
    "!wget http://norvig.com/tsv/ngrams-all.tsv.zip"
   ]
  },
  {
   "cell_type": "code",
   "execution_count": null,
   "metadata": {
    "ExecuteTime": {
     "end_time": "2020-06-07T05:04:46.463524Z",
     "start_time": "2020-06-07T05:04:45.810946Z"
    }
   },
   "outputs": [],
   "source": [
    "# gzip file masquerading as a ZIP file\n",
    "!mv ngrams-all.tsv.zip ngrams-all.tsv.z\n",
    "!gunzip ngrams-all.tsv.z"
   ]
  },
  {
   "cell_type": "code",
   "execution_count": null,
   "metadata": {
    "ExecuteTime": {
     "end_time": "2020-06-07T05:11:27.604906Z",
     "start_time": "2020-06-07T05:11:27.437489Z"
    }
   },
   "outputs": [],
   "source": [
    "# First 27 rows are characters\n",
    "# next 669 are bigrams\n",
    "!head -n 697 ngrams-all.tsv | tail -n 669 > bigrams.tsv"
   ]
  },
  {
   "cell_type": "code",
   "execution_count": null,
   "metadata": {
    "ExecuteTime": {
     "end_time": "2020-06-07T05:44:20.000520Z",
     "start_time": "2020-06-07T05:44:19.984173Z"
    }
   },
   "outputs": [],
   "source": [
    "# file format col1: bigram, col2: overall freq, ignore other cols\n",
    "from collections import Counter\n",
    "import csv\n",
    "counts = Counter()\n",
    "bitree = {}\n",
    "totals = 2819662855499\n",
    "with open(\"bigrams.tsv\", 'r') as fl:\n",
    "    big = csv.reader(fl, delimiter='\\t')\n",
    "    for bigram in big:\n",
    "        key = bigram[0]\n",
    "        count = int(bigram[1]) / totals \n",
    "        counts[key] = count \n",
    "        if(key[0] in bitree):\n",
    "            bitree[key[0]][key[1]] = count\n",
    "        else:\n",
    "            #need new subdict\n",
    "            bitree[key[0]] = { key[1] : count }"
   ]
  },
  {
   "cell_type": "code",
   "execution_count": null,
   "metadata": {
    "ExecuteTime": {
     "end_time": "2020-06-07T05:44:21.143856Z",
     "start_time": "2020-06-07T05:44:21.136951Z"
    }
   },
   "outputs": [],
   "source": [
    "counts.most_common(10)"
   ]
  },
  {
   "cell_type": "code",
   "execution_count": null,
   "metadata": {
    "ExecuteTime": {
     "end_time": "2020-06-07T05:44:26.069438Z",
     "start_time": "2020-06-07T05:44:26.064117Z"
    }
   },
   "outputs": [],
   "source": [
    "print(bitree['T'])"
   ]
  },
  {
   "cell_type": "code",
   "execution_count": null,
   "metadata": {},
   "outputs": [],
   "source": [
    "!pip install anytree"
   ]
  },
  {
   "cell_type": "code",
   "execution_count": null,
   "metadata": {
    "ExecuteTime": {
     "end_time": "2020-06-07T08:54:58.658276Z",
     "start_time": "2020-06-07T08:54:58.642452Z"
    }
   },
   "outputs": [],
   "source": [
    "from anytree import Node, RenderTree\n",
    "# construct 5 letter word o given a bigram\n",
    "start = 'WI'\n",
    "compl = Node(start[0], prob=1)  # to store comlpetions and probabilities\n",
    "cnt = 0\n",
    "\n",
    "def recurse(letter, prob, level, parent):\n",
    "    if level > 2:\n",
    "        return Node(letter, parent=parent, prob=prob*parent.prob)\n",
    "    \n",
    "    items = Counter(bitree[letter]).most_common(3)\n",
    "    nd = Node(letter, parent=parent, prob=parent.prob*prob)\n",
    "    for item in items:\n",
    "        rslt = recurse(item[0], item[1], level+1, nd)\n",
    "    return nd\n",
    "\n",
    "\n",
    "recurse(start[1], 1, 0, compl)\n",
    "    "
   ]
  },
  {
   "cell_type": "code",
   "execution_count": null,
   "metadata": {
    "ExecuteTime": {
     "end_time": "2020-06-07T08:54:59.422876Z",
     "start_time": "2020-06-07T08:54:59.408524Z"
    }
   },
   "outputs": [],
   "source": [
    "for pre, fill, node in RenderTree(compl):\n",
    "    print(\"%s%s (%2.8f)\" % (pre, node.name, node.prob))"
   ]
  },
  {
   "cell_type": "code",
   "execution_count": null,
   "metadata": {},
   "outputs": [],
   "source": []
  }
 ],
 "metadata": {
  "kernelspec": {
   "display_name": "anlp37",
   "language": "python",
   "name": "anlp37"
  },
  "language_info": {
   "codemirror_mode": {
    "name": "ipython",
    "version": 3
   },
   "file_extension": ".py",
   "mimetype": "text/x-python",
   "name": "python",
   "nbconvert_exporter": "python",
   "pygments_lexer": "ipython3",
   "version": "3.7.10"
  },
  "toc": {
   "base_numbering": 1,
   "nav_menu": {},
   "number_sections": true,
   "sideBar": true,
   "skip_h1_title": false,
   "title_cell": "Table of Contents",
   "title_sidebar": "Contents",
   "toc_cell": false,
   "toc_position": {},
   "toc_section_display": true,
   "toc_window_display": false
  },
  "varInspector": {
   "cols": {
    "lenName": 16,
    "lenType": 16,
    "lenVar": 40
   },
   "kernels_config": {
    "python": {
     "delete_cmd_postfix": "",
     "delete_cmd_prefix": "del ",
     "library": "var_list.py",
     "varRefreshCmd": "print(var_dic_list())"
    },
    "r": {
     "delete_cmd_postfix": ") ",
     "delete_cmd_prefix": "rm(",
     "library": "var_list.r",
     "varRefreshCmd": "cat(var_dic_list()) "
    }
   },
   "types_to_exclude": [
    "module",
    "function",
    "builtin_function_or_method",
    "instance",
    "_Feature"
   ],
   "window_display": false
  }
 },
 "nbformat": 4,
 "nbformat_minor": 4
}
